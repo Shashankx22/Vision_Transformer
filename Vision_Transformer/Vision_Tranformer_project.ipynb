{
  "cells": [
    {
      "cell_type": "markdown",
      "id": "ab1cb8a5",
      "metadata": {
        "id": "ab1cb8a5"
      },
      "source": [
        "# Vision Tranformer Classifciation of Cifer-10 DataSet\n",
        "\n",
        "1. Import Libraries"
      ]
    },
    {
      "cell_type": "code",
      "execution_count": 3,
      "id": "6a4dd445",
      "metadata": {
        "colab": {
          "base_uri": "https://localhost:8080/",
          "height": 1000
        },
        "id": "6a4dd445",
        "outputId": "0077dd3b-b45d-4e6e-bf68-fa6c5b84898b"
      },
      "outputs": [
        {
          "output_type": "stream",
          "name": "stdout",
          "text": [
            "Requirement already satisfied: numpy in /usr/local/lib/python3.10/dist-packages (1.26.4)\n",
            "Collecting tensorflow==2.8.0\n",
            "  Downloading tensorflow-2.8.0-cp310-cp310-manylinux2010_x86_64.whl.metadata (2.9 kB)\n",
            "Requirement already satisfied: absl-py>=0.4.0 in /usr/local/lib/python3.10/dist-packages (from tensorflow==2.8.0) (1.4.0)\n",
            "Requirement already satisfied: astunparse>=1.6.0 in /usr/local/lib/python3.10/dist-packages (from tensorflow==2.8.0) (1.6.3)\n",
            "Requirement already satisfied: flatbuffers>=1.12 in /usr/local/lib/python3.10/dist-packages (from tensorflow==2.8.0) (24.3.25)\n",
            "Requirement already satisfied: gast>=0.2.1 in /usr/local/lib/python3.10/dist-packages (from tensorflow==2.8.0) (0.6.0)\n",
            "Requirement already satisfied: google-pasta>=0.1.1 in /usr/local/lib/python3.10/dist-packages (from tensorflow==2.8.0) (0.2.0)\n",
            "Requirement already satisfied: h5py>=2.9.0 in /usr/local/lib/python3.10/dist-packages (from tensorflow==2.8.0) (3.11.0)\n",
            "Collecting keras-preprocessing>=1.1.1 (from tensorflow==2.8.0)\n",
            "  Downloading Keras_Preprocessing-1.1.2-py2.py3-none-any.whl.metadata (1.9 kB)\n",
            "Requirement already satisfied: libclang>=9.0.1 in /usr/local/lib/python3.10/dist-packages (from tensorflow==2.8.0) (18.1.1)\n",
            "Requirement already satisfied: numpy>=1.20 in /usr/local/lib/python3.10/dist-packages (from tensorflow==2.8.0) (1.26.4)\n",
            "Requirement already satisfied: opt-einsum>=2.3.2 in /usr/local/lib/python3.10/dist-packages (from tensorflow==2.8.0) (3.4.0)\n",
            "Requirement already satisfied: protobuf>=3.9.2 in /usr/local/lib/python3.10/dist-packages (from tensorflow==2.8.0) (3.20.3)\n",
            "Requirement already satisfied: setuptools in /usr/local/lib/python3.10/dist-packages (from tensorflow==2.8.0) (71.0.4)\n",
            "Requirement already satisfied: six>=1.12.0 in /usr/local/lib/python3.10/dist-packages (from tensorflow==2.8.0) (1.16.0)\n",
            "Requirement already satisfied: termcolor>=1.1.0 in /usr/local/lib/python3.10/dist-packages (from tensorflow==2.8.0) (2.4.0)\n",
            "Requirement already satisfied: typing-extensions>=3.6.6 in /usr/local/lib/python3.10/dist-packages (from tensorflow==2.8.0) (4.12.2)\n",
            "Requirement already satisfied: wrapt>=1.11.0 in /usr/local/lib/python3.10/dist-packages (from tensorflow==2.8.0) (1.16.0)\n",
            "Collecting tensorboard<2.9,>=2.8 (from tensorflow==2.8.0)\n",
            "  Downloading tensorboard-2.8.0-py3-none-any.whl.metadata (1.9 kB)\n",
            "Collecting tf-estimator-nightly==2.8.0.dev2021122109 (from tensorflow==2.8.0)\n",
            "  Downloading tf_estimator_nightly-2.8.0.dev2021122109-py2.py3-none-any.whl.metadata (1.2 kB)\n",
            "Collecting keras<2.9,>=2.8.0rc0 (from tensorflow==2.8.0)\n",
            "  Downloading keras-2.8.0-py2.py3-none-any.whl.metadata (1.3 kB)\n",
            "Requirement already satisfied: tensorflow-io-gcs-filesystem>=0.23.1 in /usr/local/lib/python3.10/dist-packages (from tensorflow==2.8.0) (0.37.1)\n",
            "Requirement already satisfied: grpcio<2.0,>=1.24.3 in /usr/local/lib/python3.10/dist-packages (from tensorflow==2.8.0) (1.64.1)\n",
            "Requirement already satisfied: wheel<1.0,>=0.23.0 in /usr/local/lib/python3.10/dist-packages (from astunparse>=1.6.0->tensorflow==2.8.0) (0.44.0)\n",
            "Requirement already satisfied: google-auth<3,>=1.6.3 in /usr/local/lib/python3.10/dist-packages (from tensorboard<2.9,>=2.8->tensorflow==2.8.0) (2.27.0)\n",
            "Collecting google-auth-oauthlib<0.5,>=0.4.1 (from tensorboard<2.9,>=2.8->tensorflow==2.8.0)\n",
            "  Downloading google_auth_oauthlib-0.4.6-py2.py3-none-any.whl.metadata (2.7 kB)\n",
            "Requirement already satisfied: markdown>=2.6.8 in /usr/local/lib/python3.10/dist-packages (from tensorboard<2.9,>=2.8->tensorflow==2.8.0) (3.7)\n",
            "Requirement already satisfied: requests<3,>=2.21.0 in /usr/local/lib/python3.10/dist-packages (from tensorboard<2.9,>=2.8->tensorflow==2.8.0) (2.32.3)\n",
            "Collecting tensorboard-data-server<0.7.0,>=0.6.0 (from tensorboard<2.9,>=2.8->tensorflow==2.8.0)\n",
            "  Downloading tensorboard_data_server-0.6.1-py3-none-manylinux2010_x86_64.whl.metadata (1.1 kB)\n",
            "Collecting tensorboard-plugin-wit>=1.6.0 (from tensorboard<2.9,>=2.8->tensorflow==2.8.0)\n",
            "  Downloading tensorboard_plugin_wit-1.8.1-py3-none-any.whl.metadata (873 bytes)\n",
            "Requirement already satisfied: werkzeug>=0.11.15 in /usr/local/lib/python3.10/dist-packages (from tensorboard<2.9,>=2.8->tensorflow==2.8.0) (3.0.4)\n",
            "Requirement already satisfied: cachetools<6.0,>=2.0.0 in /usr/local/lib/python3.10/dist-packages (from google-auth<3,>=1.6.3->tensorboard<2.9,>=2.8->tensorflow==2.8.0) (5.5.0)\n",
            "Requirement already satisfied: pyasn1-modules>=0.2.1 in /usr/local/lib/python3.10/dist-packages (from google-auth<3,>=1.6.3->tensorboard<2.9,>=2.8->tensorflow==2.8.0) (0.4.1)\n",
            "Requirement already satisfied: rsa<5,>=3.1.4 in /usr/local/lib/python3.10/dist-packages (from google-auth<3,>=1.6.3->tensorboard<2.9,>=2.8->tensorflow==2.8.0) (4.9)\n",
            "Requirement already satisfied: requests-oauthlib>=0.7.0 in /usr/local/lib/python3.10/dist-packages (from google-auth-oauthlib<0.5,>=0.4.1->tensorboard<2.9,>=2.8->tensorflow==2.8.0) (1.3.1)\n",
            "Requirement already satisfied: charset-normalizer<4,>=2 in /usr/local/lib/python3.10/dist-packages (from requests<3,>=2.21.0->tensorboard<2.9,>=2.8->tensorflow==2.8.0) (3.3.2)\n",
            "Requirement already satisfied: idna<4,>=2.5 in /usr/local/lib/python3.10/dist-packages (from requests<3,>=2.21.0->tensorboard<2.9,>=2.8->tensorflow==2.8.0) (3.10)\n",
            "Requirement already satisfied: urllib3<3,>=1.21.1 in /usr/local/lib/python3.10/dist-packages (from requests<3,>=2.21.0->tensorboard<2.9,>=2.8->tensorflow==2.8.0) (2.2.3)\n",
            "Requirement already satisfied: certifi>=2017.4.17 in /usr/local/lib/python3.10/dist-packages (from requests<3,>=2.21.0->tensorboard<2.9,>=2.8->tensorflow==2.8.0) (2024.8.30)\n",
            "Requirement already satisfied: MarkupSafe>=2.1.1 in /usr/local/lib/python3.10/dist-packages (from werkzeug>=0.11.15->tensorboard<2.9,>=2.8->tensorflow==2.8.0) (2.1.5)\n",
            "Requirement already satisfied: pyasn1<0.7.0,>=0.4.6 in /usr/local/lib/python3.10/dist-packages (from pyasn1-modules>=0.2.1->google-auth<3,>=1.6.3->tensorboard<2.9,>=2.8->tensorflow==2.8.0) (0.6.1)\n",
            "Requirement already satisfied: oauthlib>=3.0.0 in /usr/local/lib/python3.10/dist-packages (from requests-oauthlib>=0.7.0->google-auth-oauthlib<0.5,>=0.4.1->tensorboard<2.9,>=2.8->tensorflow==2.8.0) (3.2.2)\n",
            "Downloading tensorflow-2.8.0-cp310-cp310-manylinux2010_x86_64.whl (497.6 MB)\n",
            "\u001b[2K   \u001b[90m━━━━━━━━━━━━━━━━━━━━━━━━━━━━━━━━━━━━━━━━\u001b[0m \u001b[32m497.6/497.6 MB\u001b[0m \u001b[31m3.5 MB/s\u001b[0m eta \u001b[36m0:00:00\u001b[0m\n",
            "\u001b[?25hDownloading tf_estimator_nightly-2.8.0.dev2021122109-py2.py3-none-any.whl (462 kB)\n",
            "\u001b[2K   \u001b[90m━━━━━━━━━━━━━━━━━━━━━━━━━━━━━━━━━━━━━━━━\u001b[0m \u001b[32m462.5/462.5 kB\u001b[0m \u001b[31m24.1 MB/s\u001b[0m eta \u001b[36m0:00:00\u001b[0m\n",
            "\u001b[?25hDownloading keras-2.8.0-py2.py3-none-any.whl (1.4 MB)\n",
            "\u001b[2K   \u001b[90m━━━━━━━━━━━━━━━━━━━━━━━━━━━━━━━━━━━━━━━━\u001b[0m \u001b[32m1.4/1.4 MB\u001b[0m \u001b[31m49.1 MB/s\u001b[0m eta \u001b[36m0:00:00\u001b[0m\n",
            "\u001b[?25hDownloading Keras_Preprocessing-1.1.2-py2.py3-none-any.whl (42 kB)\n",
            "\u001b[2K   \u001b[90m━━━━━━━━━━━━━━━━━━━━━━━━━━━━━━━━━━━━━━━━\u001b[0m \u001b[32m42.6/42.6 kB\u001b[0m \u001b[31m2.9 MB/s\u001b[0m eta \u001b[36m0:00:00\u001b[0m\n",
            "\u001b[?25hDownloading tensorboard-2.8.0-py3-none-any.whl (5.8 MB)\n",
            "\u001b[2K   \u001b[90m━━━━━━━━━━━━━━━━━━━━━━━━━━━━━━━━━━━━━━━━\u001b[0m \u001b[32m5.8/5.8 MB\u001b[0m \u001b[31m90.3 MB/s\u001b[0m eta \u001b[36m0:00:00\u001b[0m\n",
            "\u001b[?25hDownloading google_auth_oauthlib-0.4.6-py2.py3-none-any.whl (18 kB)\n",
            "Downloading tensorboard_data_server-0.6.1-py3-none-manylinux2010_x86_64.whl (4.9 MB)\n",
            "\u001b[2K   \u001b[90m━━━━━━━━━━━━━━━━━━━━━━━━━━━━━━━━━━━━━━━━\u001b[0m \u001b[32m4.9/4.9 MB\u001b[0m \u001b[31m89.2 MB/s\u001b[0m eta \u001b[36m0:00:00\u001b[0m\n",
            "\u001b[?25hDownloading tensorboard_plugin_wit-1.8.1-py3-none-any.whl (781 kB)\n",
            "\u001b[2K   \u001b[90m━━━━━━━━━━━━━━━━━━━━━━━━━━━━━━━━━━━━━━━━\u001b[0m \u001b[32m781.3/781.3 kB\u001b[0m \u001b[31m42.7 MB/s\u001b[0m eta \u001b[36m0:00:00\u001b[0m\n",
            "\u001b[?25hInstalling collected packages: tf-estimator-nightly, tensorboard-plugin-wit, keras, tensorboard-data-server, keras-preprocessing, google-auth-oauthlib, tensorboard, tensorflow\n",
            "  Attempting uninstall: keras\n",
            "    Found existing installation: keras 3.4.1\n",
            "    Uninstalling keras-3.4.1:\n",
            "      Successfully uninstalled keras-3.4.1\n",
            "  Attempting uninstall: tensorboard-data-server\n",
            "    Found existing installation: tensorboard-data-server 0.7.2\n",
            "    Uninstalling tensorboard-data-server-0.7.2:\n",
            "      Successfully uninstalled tensorboard-data-server-0.7.2\n",
            "  Attempting uninstall: google-auth-oauthlib\n",
            "    Found existing installation: google-auth-oauthlib 1.2.1\n",
            "    Uninstalling google-auth-oauthlib-1.2.1:\n",
            "      Successfully uninstalled google-auth-oauthlib-1.2.1\n",
            "  Attempting uninstall: tensorboard\n",
            "    Found existing installation: tensorboard 2.17.0\n",
            "    Uninstalling tensorboard-2.17.0:\n",
            "      Successfully uninstalled tensorboard-2.17.0\n",
            "  Attempting uninstall: tensorflow\n",
            "    Found existing installation: tensorflow 2.17.0\n",
            "    Uninstalling tensorflow-2.17.0:\n",
            "      Successfully uninstalled tensorflow-2.17.0\n",
            "\u001b[31mERROR: pip's dependency resolver does not currently take into account all the packages that are installed. This behaviour is the source of the following dependency conflicts.\n",
            "pandas-gbq 0.23.2 requires google-auth-oauthlib>=0.7.0, but you have google-auth-oauthlib 0.4.6 which is incompatible.\n",
            "tf-keras 2.17.0 requires tensorflow<2.18,>=2.17, but you have tensorflow 2.8.0 which is incompatible.\u001b[0m\u001b[31m\n",
            "\u001b[0mSuccessfully installed google-auth-oauthlib-0.4.6 keras-2.8.0 keras-preprocessing-1.1.2 tensorboard-2.8.0 tensorboard-data-server-0.6.1 tensorboard-plugin-wit-1.8.1 tensorflow-2.8.0 tf-estimator-nightly-2.8.0.dev2021122109\n"
          ]
        },
        {
          "output_type": "display_data",
          "data": {
            "application/vnd.colab-display-data+json": {
              "pip_warning": {
                "packages": [
                  "keras",
                  "tensorflow"
                ]
              },
              "id": "e9b6edefe61543c7b75f3fd81914e1fb"
            }
          },
          "metadata": {}
        },
        {
          "output_type": "stream",
          "name": "stdout",
          "text": [
            "Requirement already satisfied: keras==2.8.0 in /usr/local/lib/python3.10/dist-packages (2.8.0)\n",
            "Requirement already satisfied: tensorflow_addons==0.20.0 in /usr/local/lib/python3.10/dist-packages (0.20.0)\n",
            "Requirement already satisfied: packaging in /usr/local/lib/python3.10/dist-packages (from tensorflow_addons==0.20.0) (24.1)\n",
            "Requirement already satisfied: typeguard<3.0.0,>=2.7 in /usr/local/lib/python3.10/dist-packages (from tensorflow_addons==0.20.0) (2.13.3)\n"
          ]
        }
      ],
      "source": [
        "!pip install numpy\n",
        "!pip install tensorflow==2.8.0\n",
        "!pip install keras==2.8.0\n",
        "!pip install tensorflow_addons==0.20.0 #(0.17.0)"
      ]
    },
    {
      "cell_type": "markdown",
      "id": "058ea624",
      "metadata": {
        "id": "058ea624"
      },
      "source": [
        "2. Import / Download dataset"
      ]
    },
    {
      "cell_type": "code",
      "execution_count": 1,
      "id": "792983f9",
      "metadata": {
        "colab": {
          "base_uri": "https://localhost:8080/"
        },
        "id": "792983f9",
        "outputId": "db8485cb-0a98-437c-fd4e-b0aadd3583be"
      },
      "outputs": [
        {
          "output_type": "stream",
          "name": "stdout",
          "text": [
            "Downloading data from https://www.cs.toronto.edu/~kriz/cifar-10-python.tar.gz\n"
          ]
        },
        {
          "output_type": "stream",
          "name": "stderr",
          "text": [
            "/usr/local/lib/python3.10/dist-packages/tensorflow_addons/utils/tfa_eol_msg.py:23: UserWarning: \n",
            "\n",
            "TensorFlow Addons (TFA) has ended development and introduction of new features.\n",
            "TFA has entered a minimal maintenance and release mode until a planned end of life in May 2024.\n",
            "Please modify downstream libraries to take dependencies from other repositories in our TensorFlow community (e.g. Keras, Keras-CV, and Keras-NLP). \n",
            "\n",
            "For more information see: https://github.com/tensorflow/addons/issues/2807 \n",
            "\n",
            "  warnings.warn(\n",
            "/usr/local/lib/python3.10/dist-packages/tensorflow_addons/utils/ensure_tf_install.py:53: UserWarning: Tensorflow Addons supports using Python ops for all Tensorflow versions above or equal to 2.10.0 and strictly below 2.13.0 (nightly versions are not supported). \n",
            " The versions of TensorFlow you are currently using is 2.8.0 and is not supported. \n",
            "Some things might work, some things might not.\n",
            "If you were to encounter a bug, do not file an issue.\n",
            "If you want to make sure you're using a tested and supported configuration, either change the TensorFlow version or the TensorFlow Addons's version. \n",
            "You can find the compatibility matrix in TensorFlow Addon's readme:\n",
            "https://github.com/tensorflow/addons\n",
            "  warnings.warn(\n"
          ]
        },
        {
          "output_type": "stream",
          "name": "stdout",
          "text": [
            "170500096/170498071 [==============================] - 3s 0us/step\n",
            "170508288/170498071 [==============================] - 3s 0us/step\n"
          ]
        }
      ],
      "source": [
        "import numpy as np\n",
        "import tensorflow as tf\n",
        "from tensorflow import keras\n",
        "from tensorflow.keras import layers\n",
        "import tensorflow_addons as tfa\n",
        "from tensorflow.keras.optimizers import Adam\n",
        "num_classes=10\n",
        "input_shape=(32,32,3)\n",
        "\n",
        "(x_train,y_train),(x_test,y_test) = keras.datasets.cifar10.load_data()"
      ]
    },
    {
      "cell_type": "markdown",
      "id": "d503a459",
      "metadata": {
        "id": "d503a459"
      },
      "source": [
        "3. Print the dimensions (shapes) of training and testing data arrays in a machine learning context."
      ]
    },
    {
      "cell_type": "code",
      "execution_count": 2,
      "id": "75c3f54f",
      "metadata": {
        "colab": {
          "base_uri": "https://localhost:8080/"
        },
        "id": "75c3f54f",
        "outputId": "c552155f-91db-40fd-c4d0-10ef55bf93fc"
      },
      "outputs": [
        {
          "output_type": "stream",
          "name": "stdout",
          "text": [
            "x_train shape:(50000, 32, 32, 3) - y_train_shape:(50000, 1)\n",
            "x_test shape:(10000, 32, 32, 3) - y_test_shape:(10000, 1)\n"
          ]
        }
      ],
      "source": [
        "print(f'x_train shape:{x_train.shape} - y_train_shape:{y_train.shape}')\n",
        "print(f'x_test shape:{x_test.shape} - y_test_shape:{y_test.shape}')"
      ]
    },
    {
      "cell_type": "markdown",
      "id": "fed2bb53",
      "metadata": {
        "id": "fed2bb53"
      },
      "source": [
        "4. Training and testing data sets to their first 500 and 100 samples, respectively."
      ]
    },
    {
      "cell_type": "code",
      "execution_count": 3,
      "id": "0ad98557",
      "metadata": {
        "id": "0ad98557"
      },
      "outputs": [],
      "source": [
        "x_train = x_train[:500]\n",
        "y_train = y_train[:500]\n",
        "x_test = x_test[:100]\n",
        "y_test = y_test[:100]"
      ]
    },
    {
      "cell_type": "markdown",
      "id": "21ccde46",
      "metadata": {
        "id": "21ccde46"
      },
      "source": [
        "5. Define hyperparameters and configurations variables for a neural network-based model"
      ]
    },
    {
      "cell_type": "code",
      "execution_count": 4,
      "id": "bb81f78c",
      "metadata": {
        "id": "bb81f78c"
      },
      "outputs": [],
      "source": [
        "learning_rate = 0.001\n",
        "weight_decay = 0.0001\n",
        "batch_size = 256\n",
        "num_epochs = 40\n",
        "image_size = 72\n",
        "patch_size = 6\n",
        "num_patches = (image_size//patch_size)**2\n",
        "projections_dim = 64\n",
        "num_heads = 4\n",
        "transform_units = [projections_dim*2,projections_dim]\n",
        "transform_layers = 8\n",
        "mlp_head_units = [2048,1024]"
      ]
    },
    {
      "cell_type": "markdown",
      "id": "13d2ac99",
      "metadata": {
        "id": "13d2ac99"
      },
      "source": [
        "6. Defining a Keras data augmentation pipeline"
      ]
    },
    {
      "cell_type": "code",
      "execution_count": 5,
      "id": "f784487a",
      "metadata": {
        "id": "f784487a"
      },
      "outputs": [],
      "source": [
        "data_augmentation=keras.Sequential(\n",
        "    [\n",
        "        layers.Normalization(),\n",
        "        layers.Resizing(image_size, image_size),\n",
        "        layers.RandomFlip('horizontal'),\n",
        "        layers.RandomRotation(factor=0.02),\n",
        "        layers.RandomZoom(height_factor=0.2,width_factor=0.2)\n",
        "    ],\n",
        "    name='data_augmentation'\n",
        ")\n",
        "data_augmentation.layers[0].adapt(x_train)"
      ]
    },
    {
      "cell_type": "markdown",
      "id": "4b5dc8db",
      "metadata": {
        "id": "4b5dc8db"
      },
      "source": [
        "7. Construction a multi-layer perceptron (MLP)"
      ]
    },
    {
      "cell_type": "code",
      "execution_count": 6,
      "id": "b91161b7",
      "metadata": {
        "id": "b91161b7"
      },
      "outputs": [],
      "source": [
        "def mlp(x,hidden_units,dropout_rate):\n",
        "    for units in hidden_units:\n",
        "        x=layers.Dense(units, activation=tf.nn.gelu)(x)\n",
        "        x=layers.Dropout(dropout_rate)(x)\n",
        "    return x"
      ]
    },
    {
      "cell_type": "markdown",
      "id": "8cdc07d3",
      "metadata": {
        "id": "8cdc07d3"
      },
      "source": [
        "8. Extraction of image patches from input images, and returning them as a reshaped tensor."
      ]
    },
    {
      "cell_type": "code",
      "execution_count": 7,
      "id": "872334af",
      "metadata": {
        "id": "872334af"
      },
      "outputs": [],
      "source": [
        "class Patches(layers.Layer):\n",
        "    def __init__(self, patch_size):\n",
        "        super(Patches, self).__init__()\n",
        "        self.patch_size = patch_size\n",
        "\n",
        "    def call(self, images):\n",
        "        batch_size = tf.shape(images)[0]\n",
        "        patches = tf.image.extract_patches(\n",
        "            images = images,\n",
        "            sizes = [1, self.patch_size, self.patch_size, 1],\n",
        "            strides = [1, self.patch_size, self.patch_size, 1],\n",
        "            rates=[1, 1, 1, 1],\n",
        "            padding='VALID',\n",
        "        )\n",
        "        patch_dims = patches.shape[-1]\n",
        "        patches = tf.reshape(patches, [batch_size, -1, patch_dims])\n",
        "        return patches"
      ]
    },
    {
      "cell_type": "markdown",
      "id": "226d9304",
      "metadata": {
        "id": "226d9304"
      },
      "source": [
        "9. Extraction and Visualization of patches from a randomly selected image"
      ]
    },
    {
      "cell_type": "code",
      "execution_count": 8,
      "id": "bf36d644",
      "metadata": {
        "colab": {
          "base_uri": "https://localhost:8080/",
          "height": 744
        },
        "id": "bf36d644",
        "outputId": "47f92746-9b12-49a9-ab74-591c5c0b4798"
      },
      "outputs": [
        {
          "output_type": "stream",
          "name": "stdout",
          "text": [
            "image size:72X72\n",
            "patch size:6X6\n",
            "patches for image:144\n",
            "elements for patch:108\n"
          ]
        },
        {
          "output_type": "display_data",
          "data": {
            "text/plain": [
              "<Figure size 400x400 with 1 Axes>"
            ],
            "image/png": "[encoded data removed]"
          },
          "metadata": {}
        },
        {
          "output_type": "display_data",
          "data": {
            "text/plain": [
              "<Figure size 400x400 with 144 Axes>"
            ],
            "image/png": "[encoded data removed]"
          },
          "metadata": {}
        }
      ],
      "source": [
        "import matplotlib.pyplot as plt\n",
        "\n",
        "plt.figure(figsize=(4,4))\n",
        "image = x_train[np.random.choice(range(x_train.shape[0]))]\n",
        "plt.imshow(image.astype('uint8'))\n",
        "plt.axis('off')\n",
        "resized_image = tf.image.resize(\n",
        "    tf.convert_to_tensor([image]), size=(image_size, image_size)\n",
        ")\n",
        "patches = Patches(patch_size)(resized_image)\n",
        "print(f'image size:{image_size}X{image_size}')\n",
        "print(f'patch size:{patch_size}X{patch_size}')\n",
        "print(f'patches for image:{tf.shape(patches)[1]}')\n",
        "print(f'elements for patch:{tf.shape(patches)[-1]}')\n",
        "n = int(np.sqrt(patches.shape[1]))\n",
        "plt.figure(figsize=(4,4))\n",
        "for i, patch in enumerate(patches[0]):\n",
        "    ax = plt.subplot(n, n, i+1)\n",
        "    patch_img = tf.reshape(patch, (patch_size, patch_size, 3))\n",
        "    plt.imshow(patch_img.numpy().astype('uint8'))\n",
        "    plt.axis('off')"
      ]
    },
    {
      "cell_type": "markdown",
      "id": "1f3fbd98",
      "metadata": {
        "id": "1f3fbd98"
      },
      "source": [
        "10. Encoding patches extracted from images."
      ]
    },
    {
      "cell_type": "code",
      "execution_count": 9,
      "id": "bf29a27b",
      "metadata": {
        "id": "bf29a27b"
      },
      "outputs": [],
      "source": [
        "class PatchEncoder(layers.Layer):\n",
        "    def __init__(self, num_patches,projections_dim):\n",
        "        super(PatchEncoder, self).__init__()\n",
        "        self.num_patches=num_patches\n",
        "        self.projections_dim=layers.Dense(units=projections_dim)\n",
        "        self.position_embedding=layers.Embedding(input_dim=num_patches,\n",
        "                                                 output_dim=projections_dim)\n",
        "\n",
        "    def call(self,patch):\n",
        "        positions = tf.range(start=0,limit=self.num_patches,delta=1)\n",
        "        encoded=self.projections_dim(patch)+self.position_embedding(positions)\n",
        "        return encoded"
      ]
    },
    {
      "cell_type": "markdown",
      "id": "54b88ea5",
      "metadata": {
        "id": "54b88ea5"
      },
      "source": [
        "11. Construction of Vision Transformer(ViT) model for Image classification"
      ]
    },
    {
      "cell_type": "code",
      "execution_count": 10,
      "id": "cbd88aae",
      "metadata": {
        "id": "cbd88aae"
      },
      "outputs": [],
      "source": [
        "from numpy.random.mtrand import logistic\n",
        "\n",
        "def create_vit_classifier():\n",
        "    inputs=layers.Input(shape=input_shape)\n",
        "    # Augment dats\n",
        "    augmented=data_augmentation(inputs)\n",
        "    # Create patches\n",
        "    patches=Patches(patch_size)(augmented)\n",
        "    # Encode patches\n",
        "    encoded_patches=PatchEncoder(num_patches,projections_dim)(patches)\n",
        "\n",
        "    # Create multiple Layers of the Transformer block\n",
        "    for _ in range(transform_layers):\n",
        "        # layer Normalization\n",
        "        x1=layers.LayerNormalization(epsilon=1e-6)(encoded_patches)\n",
        "        # Create a multi-head attention Layer\n",
        "        attention_output=layers.MultiHeadAttention(\n",
        "            num_heads=num_heads, key_dim=projections_dim ,dropout=0.1\n",
        "        )(x1,x1)\n",
        "        # Skip connection 1\n",
        "        x2=layers.Add()([attention_output,encoded_patches])\n",
        "        # Layer Normalization 2\n",
        "        x3=layers.LayerNormalization(epsilon=1e-6)(x2)\n",
        "        # MLP\n",
        "        x3=mlp(x3,hidden_units=transform_units,dropout_rate=0.1)\n",
        "        # Skip connection 2\n",
        "        encoded_patches=layers.Add()([x2,x3])\n",
        "\n",
        "    # Create a [batch_size, projection_dim] tensor\n",
        "    representation=layers.LayerNormalization(epsilon=1e-6)(encoded_patches)\n",
        "    representation=layers.Flatten()(representation)\n",
        "    representation=layers.Dropout(0.5)(representation)\n",
        "    # add MLP\n",
        "    features=mlp(representation,hidden_units=mlp_head_units,dropout_rate=0.5)\n",
        "    # Classify outputs\n",
        "    logits=layers.Dense(num_classes)(features)\n",
        "    # Create the keras Model\n",
        "    model=keras.Model(inputs=inputs,outputs=logits)\n",
        "    return model"
      ]
    },
    {
      "cell_type": "markdown",
      "id": "5d6f9c0c",
      "metadata": {
        "id": "5d6f9c0c"
      },
      "source": [
        "12. Function to train a Machine Learning Model"
      ]
    },
    {
      "cell_type": "code",
      "execution_count": 11,
      "id": "bada71b7",
      "metadata": {
        "id": "bada71b7"
      },
      "outputs": [],
      "source": [
        "def run_experiment(model):\n",
        "    optimizer=tfa.optimizers.AdamW(\n",
        "        learning_rate=learning_rate,weight_decay=weight_decay)\n",
        "\n",
        "    model.compile(optimizer=optimizer,\n",
        "                  loss=keras.losses.SparseCategoricalCrossentropy(from_logits=True),\n",
        "                  metrics=[keras.metrics.SparseCategoricalAccuracy(name='accuracy'),\n",
        "                            keras.metrics.SparseTopKCategoricalAccuracy(5,name='top_5_accuracy'),],)\n",
        "    checkpoint_filepath=\"./tmp.checkpoint\"\n",
        "    checkpoint_callback=keras.callbacks.ModelCheckpoint(\n",
        "        checkpoint_filepath,\n",
        "        monitor=\"val_accuracy\",\n",
        "        save_best_only=True,\n",
        "        ave_weights_only=True)\n",
        "\n",
        "    history = model.fit(x = x_train,\n",
        "                        y = y_train,\n",
        "                        batch_size = batch_size,\n",
        "                        epochs=num_epochs,\n",
        "                        validation_split=0.1,\n",
        "                        callbacks=[checkpoint_callback], )\n",
        "\n",
        "    model.load_weights(checkpoint_filepath)\n",
        "    _,accuracy,top_5_accuracy=model.evaluate(x_test, y_test)\n",
        "    print(f'Test accuracy:{round(accuracy*100,2)}%')\n",
        "    print(f'Test Top 5 accuracy:{round(top_5_accuracy*100,2)}%')"
      ]
    },
    {
      "cell_type": "markdown",
      "id": "ed71a64b",
      "metadata": {
        "id": "ed71a64b"
      },
      "source": [
        "13. Creation of a Vision Transformer (ViT) classifier model"
      ]
    },
    {
      "cell_type": "code",
      "execution_count": 13,
      "id": "120860bf",
      "metadata": {
        "scrolled": false,
        "colab": {
          "base_uri": "https://localhost:8080/"
        },
        "id": "120860bf",
        "outputId": "f23e8bad-31f0-417a-f483-8d7edd1cd89f"
      },
      "outputs": [
        {
          "output_type": "stream",
          "name": "stdout",
          "text": [
            "Epoch 1/40\n",
            "2/2 [==============================] - ETA: 0s - loss: 6.0090 - accuracy: 0.1311 - top_5_accuracy: 0.5333 "
          ]
        },
        {
          "output_type": "stream",
          "name": "stderr",
          "text": [
            "WARNING:absl:Found untraced functions such as dense_layer_call_fn, dense_layer_call_and_return_conditional_losses, embedding_layer_call_fn, embedding_layer_call_and_return_conditional_losses, query_layer_call_fn while saving (showing 5 of 100). These functions will not be directly callable after loading.\n"
          ]
        },
        {
          "output_type": "stream",
          "name": "stdout",
          "text": [
            "\b\b\b\b\b\b\b\b\b\b\b\b\b\b\b\b\b\b\b\b\b\b\b\b\b\b\b\b\b\b\b\b\b\b\b\b\b\b\b\b\b\b\b\b\b\b\b\b\b\b\b\b\b\b\b\b\b\b\b\b\b\b\b\b\b\b\b\b\b\b\b\b\b\b\b\b\b\b\b\b\b\b\b\b\b\b\b\b\b\b\b\b\b\b\b\b\b\b\b\b\b\b\b\b\b\r2/2 [==============================] - 62s 29s/step - loss: 6.0090 - accuracy: 0.1311 - top_5_accuracy: 0.5333 - val_loss: 5.3477 - val_accuracy: 0.2000 - val_top_5_accuracy: 0.6000\n",
            "Epoch 2/40\n",
            "2/2 [==============================] - 38s 14s/step - loss: 6.0111 - accuracy: 0.1889 - top_5_accuracy: 0.5933 - val_loss: 3.1185 - val_accuracy: 0.1800 - val_top_5_accuracy: 0.6600\n",
            "Epoch 3/40\n",
            "2/2 [==============================] - 33s 13s/step - loss: 3.9582 - accuracy: 0.2089 - top_5_accuracy: 0.6622 - val_loss: 2.8073 - val_accuracy: 0.1800 - val_top_5_accuracy: 0.6800\n",
            "Epoch 4/40\n",
            "2/2 [==============================] - 30s 13s/step - loss: 3.0604 - accuracy: 0.2222 - top_5_accuracy: 0.7067 - val_loss: 2.2200 - val_accuracy: 0.1400 - val_top_5_accuracy: 0.6800\n",
            "Epoch 5/40\n",
            "2/2 [==============================] - ETA: 0s - loss: 2.6840 - accuracy: 0.2422 - top_5_accuracy: 0.7133 "
          ]
        },
        {
          "output_type": "stream",
          "name": "stderr",
          "text": [
            "WARNING:absl:Found untraced functions such as dense_layer_call_fn, dense_layer_call_and_return_conditional_losses, embedding_layer_call_fn, embedding_layer_call_and_return_conditional_losses, query_layer_call_fn while saving (showing 5 of 100). These functions will not be directly callable after loading.\n"
          ]
        },
        {
          "output_type": "stream",
          "name": "stdout",
          "text": [
            "\b\b\b\b\b\b\b\b\b\b\b\b\b\b\b\b\b\b\b\b\b\b\b\b\b\b\b\b\b\b\b\b\b\b\b\b\b\b\b\b\b\b\b\b\b\b\b\b\b\b\b\b\b\b\b\b\b\b\b\b\b\b\b\b\b\b\b\b\b\b\b\b\b\b\b\b\b\b\b\b\b\b\b\b\b\b\b\b\b\b\b\b\b\b\b\b\b\b\b\b\b\b\b\b\b\r2/2 [==============================] - 52s 35s/step - loss: 2.6840 - accuracy: 0.2422 - top_5_accuracy: 0.7133 - val_loss: 2.0833 - val_accuracy: 0.3800 - val_top_5_accuracy: 0.7400\n",
            "Epoch 6/40\n",
            "2/2 [==============================] - 31s 14s/step - loss: 2.4898 - accuracy: 0.2489 - top_5_accuracy: 0.7400 - val_loss: 2.1002 - val_accuracy: 0.2600 - val_top_5_accuracy: 0.6800\n",
            "Epoch 7/40\n",
            "2/2 [==============================] - 33s 14s/step - loss: 2.3326 - accuracy: 0.2644 - top_5_accuracy: 0.7511 - val_loss: 2.0865 - val_accuracy: 0.2000 - val_top_5_accuracy: 0.6600\n",
            "Epoch 8/40\n",
            "2/2 [==============================] - 31s 14s/step - loss: 2.1894 - accuracy: 0.2956 - top_5_accuracy: 0.7933 - val_loss: 1.9759 - val_accuracy: 0.1800 - val_top_5_accuracy: 0.7800\n",
            "Epoch 9/40\n",
            "2/2 [==============================] - 31s 14s/step - loss: 1.9794 - accuracy: 0.3333 - top_5_accuracy: 0.8244 - val_loss: 1.9463 - val_accuracy: 0.2400 - val_top_5_accuracy: 0.7600\n",
            "Epoch 10/40\n",
            "2/2 [==============================] - 33s 14s/step - loss: 2.0660 - accuracy: 0.3022 - top_5_accuracy: 0.8311 - val_loss: 2.0013 - val_accuracy: 0.2000 - val_top_5_accuracy: 0.7200\n",
            "Epoch 11/40\n",
            "2/2 [==============================] - 33s 14s/step - loss: 1.8650 - accuracy: 0.3667 - top_5_accuracy: 0.8467 - val_loss: 2.0114 - val_accuracy: 0.2600 - val_top_5_accuracy: 0.7600\n",
            "Epoch 12/40\n",
            "2/2 [==============================] - 35s 15s/step - loss: 1.8806 - accuracy: 0.3756 - top_5_accuracy: 0.8556 - val_loss: 2.0242 - val_accuracy: 0.2400 - val_top_5_accuracy: 0.7400\n",
            "Epoch 13/40\n",
            "2/2 [==============================] - 34s 15s/step - loss: 1.8477 - accuracy: 0.3533 - top_5_accuracy: 0.8378 - val_loss: 1.9946 - val_accuracy: 0.3000 - val_top_5_accuracy: 0.7600\n",
            "Epoch 14/40\n",
            "2/2 [==============================] - 36s 15s/step - loss: 1.8448 - accuracy: 0.3867 - top_5_accuracy: 0.8600 - val_loss: 1.9823 - val_accuracy: 0.2400 - val_top_5_accuracy: 0.7600\n",
            "Epoch 15/40\n",
            "2/2 [==============================] - 34s 14s/step - loss: 1.7681 - accuracy: 0.3911 - top_5_accuracy: 0.8711 - val_loss: 1.9635 - val_accuracy: 0.2400 - val_top_5_accuracy: 0.7800\n",
            "Epoch 16/40\n",
            "2/2 [==============================] - 36s 15s/step - loss: 1.6611 - accuracy: 0.4111 - top_5_accuracy: 0.8867 - val_loss: 1.9322 - val_accuracy: 0.2800 - val_top_5_accuracy: 0.8000\n",
            "Epoch 17/40\n",
            "2/2 [==============================] - 35s 15s/step - loss: 1.5917 - accuracy: 0.4267 - top_5_accuracy: 0.9022 - val_loss: 1.8934 - val_accuracy: 0.2600 - val_top_5_accuracy: 0.8200\n",
            "Epoch 18/40\n",
            "2/2 [==============================] - 35s 15s/step - loss: 1.6061 - accuracy: 0.4556 - top_5_accuracy: 0.8978 - val_loss: 1.9133 - val_accuracy: 0.3000 - val_top_5_accuracy: 0.7400\n",
            "Epoch 19/40\n",
            "2/2 [==============================] - 41s 21s/step - loss: 1.5321 - accuracy: 0.4822 - top_5_accuracy: 0.9044 - val_loss: 1.9193 - val_accuracy: 0.3400 - val_top_5_accuracy: 0.7800\n",
            "Epoch 20/40\n",
            "2/2 [==============================] - 37s 16s/step - loss: 1.4511 - accuracy: 0.4822 - top_5_accuracy: 0.9178 - val_loss: 1.8991 - val_accuracy: 0.3600 - val_top_5_accuracy: 0.7800\n",
            "Epoch 21/40\n",
            "2/2 [==============================] - 34s 15s/step - loss: 1.4336 - accuracy: 0.5178 - top_5_accuracy: 0.9289 - val_loss: 1.8964 - val_accuracy: 0.3400 - val_top_5_accuracy: 0.7800\n",
            "Epoch 22/40\n",
            "2/2 [==============================] - 36s 15s/step - loss: 1.4209 - accuracy: 0.5289 - top_5_accuracy: 0.9222 - val_loss: 1.9032 - val_accuracy: 0.3400 - val_top_5_accuracy: 0.8000\n",
            "Epoch 23/40\n",
            "2/2 [==============================] - 34s 15s/step - loss: 1.3336 - accuracy: 0.5333 - top_5_accuracy: 0.9222 - val_loss: 1.8853 - val_accuracy: 0.3200 - val_top_5_accuracy: 0.7600\n",
            "Epoch 24/40\n",
            "2/2 [==============================] - 36s 15s/step - loss: 1.3802 - accuracy: 0.5222 - top_5_accuracy: 0.9400 - val_loss: 1.8793 - val_accuracy: 0.3400 - val_top_5_accuracy: 0.7800\n",
            "Epoch 25/40\n",
            "2/2 [==============================] - 33s 14s/step - loss: 1.3168 - accuracy: 0.5689 - top_5_accuracy: 0.9489 - val_loss: 1.9518 - val_accuracy: 0.3200 - val_top_5_accuracy: 0.7600\n",
            "Epoch 26/40\n",
            "2/2 [==============================] - 36s 15s/step - loss: 1.2656 - accuracy: 0.5600 - top_5_accuracy: 0.9467 - val_loss: 1.9467 - val_accuracy: 0.3200 - val_top_5_accuracy: 0.8000\n",
            "Epoch 27/40\n",
            "2/2 [==============================] - 38s 19s/step - loss: 1.1922 - accuracy: 0.5800 - top_5_accuracy: 0.9533 - val_loss: 1.9397 - val_accuracy: 0.3000 - val_top_5_accuracy: 0.8600\n",
            "Epoch 28/40\n",
            "2/2 [==============================] - 39s 15s/step - loss: 1.1500 - accuracy: 0.5867 - top_5_accuracy: 0.9711 - val_loss: 1.9959 - val_accuracy: 0.2600 - val_top_5_accuracy: 0.9000\n",
            "Epoch 29/40\n",
            "2/2 [==============================] - 35s 15s/step - loss: 1.1531 - accuracy: 0.6067 - top_5_accuracy: 0.9556 - val_loss: 2.0298 - val_accuracy: 0.2800 - val_top_5_accuracy: 0.8400\n",
            "Epoch 30/40\n",
            "2/2 [==============================] - 37s 17s/step - loss: 0.9862 - accuracy: 0.6400 - top_5_accuracy: 0.9800 - val_loss: 2.0230 - val_accuracy: 0.2600 - val_top_5_accuracy: 0.9000\n",
            "Epoch 31/40\n",
            "2/2 [==============================] - 35s 15s/step - loss: 1.0462 - accuracy: 0.6200 - top_5_accuracy: 0.9733 - val_loss: 2.0574 - val_accuracy: 0.3000 - val_top_5_accuracy: 0.8800\n",
            "Epoch 32/40\n",
            "2/2 [==============================] - 36s 15s/step - loss: 1.0529 - accuracy: 0.6333 - top_5_accuracy: 0.9733 - val_loss: 2.0358 - val_accuracy: 0.3200 - val_top_5_accuracy: 0.8600\n",
            "Epoch 33/40\n",
            "2/2 [==============================] - 34s 15s/step - loss: 0.9207 - accuracy: 0.6889 - top_5_accuracy: 0.9733 - val_loss: 2.0404 - val_accuracy: 0.3200 - val_top_5_accuracy: 0.8600\n",
            "Epoch 34/40\n",
            "2/2 [==============================] - 36s 15s/step - loss: 0.9491 - accuracy: 0.6822 - top_5_accuracy: 0.9733 - val_loss: 2.0665 - val_accuracy: 0.2600 - val_top_5_accuracy: 0.8600\n",
            "Epoch 35/40\n",
            "2/2 [==============================] - 33s 14s/step - loss: 0.8777 - accuracy: 0.7067 - top_5_accuracy: 0.9867 - val_loss: 2.1223 - val_accuracy: 0.2800 - val_top_5_accuracy: 0.8800\n",
            "Epoch 36/40\n",
            "2/2 [==============================] - 41s 20s/step - loss: 0.8448 - accuracy: 0.7178 - top_5_accuracy: 0.9800 - val_loss: 2.1942 - val_accuracy: 0.3200 - val_top_5_accuracy: 0.8200\n",
            "Epoch 37/40\n",
            "2/2 [==============================] - 37s 15s/step - loss: 0.7425 - accuracy: 0.7356 - top_5_accuracy: 0.9867 - val_loss: 2.3075 - val_accuracy: 0.2800 - val_top_5_accuracy: 0.8200\n",
            "Epoch 38/40\n",
            "2/2 [==============================] - 34s 15s/step - loss: 0.7451 - accuracy: 0.7356 - top_5_accuracy: 0.9822 - val_loss: 2.4303 - val_accuracy: 0.2400 - val_top_5_accuracy: 0.8200\n",
            "Epoch 39/40\n",
            "2/2 [==============================] - 36s 15s/step - loss: 0.7300 - accuracy: 0.7356 - top_5_accuracy: 0.9867 - val_loss: 2.5401 - val_accuracy: 0.2600 - val_top_5_accuracy: 0.8400\n",
            "Epoch 40/40\n",
            "2/2 [==============================] - 34s 14s/step - loss: 0.8087 - accuracy: 0.7400 - top_5_accuracy: 0.9889 - val_loss: 2.5185 - val_accuracy: 0.2400 - val_top_5_accuracy: 0.8400\n",
            "4/4 [==============================] - 2s 424ms/step - loss: 2.0646 - accuracy: 0.2900 - top_5_accuracy: 0.6700\n",
            "Test accuracy:29.0%\n",
            "Test Top 5 accuracy:67.0%\n"
          ]
        }
      ],
      "source": [
        "vit_classifier=create_vit_classifier()\n",
        "history=run_experiment(vit_classifier)"
      ]
    },
    {
      "cell_type": "markdown",
      "id": "2eb69ec7",
      "metadata": {
        "id": "2eb69ec7"
      },
      "source": [
        "14. Categories or labels for a classification task"
      ]
    },
    {
      "cell_type": "code",
      "execution_count": 12,
      "id": "277586ff",
      "metadata": {
        "id": "277586ff"
      },
      "outputs": [],
      "source": [
        "class_names=[\n",
        "    'airplane',\n",
        "    'truck',\n",
        "    'automobile',\n",
        "    'bird',\n",
        "    'cat',\n",
        "    'deer',\n",
        "    'dog',\n",
        "    'frog',\n",
        "    'horse',\n",
        "    'ship',\n",
        "]"
      ]
    },
    {
      "cell_type": "markdown",
      "id": "ad70fe64",
      "metadata": {
        "id": "ad70fe64"
      },
      "source": [
        "15. Predictions for the class labels of the input images"
      ]
    },
    {
      "cell_type": "code",
      "execution_count": 14,
      "id": "6ad4fad7",
      "metadata": {
        "id": "6ad4fad7"
      },
      "outputs": [],
      "source": [
        "def img_perdict(images,model):\n",
        "    if len(images.shape) == 3:\n",
        "        out=model.predict(images.reshape(-1,*images.shape))\n",
        "    else:\n",
        "        out=model.predict(images)\n",
        "    prediction=np.argmax(out, axis=1)\n",
        "    img_prediction=[class_names[i] for i in prediction]\n",
        "    return img_prediction"
      ]
    },
    {
      "cell_type": "markdown",
      "id": "fd3ab324",
      "metadata": {
        "id": "fd3ab324"
      },
      "source": [
        "16. Displaying an image from the test data at an index"
      ]
    },
    {
      "cell_type": "code",
      "execution_count": 15,
      "id": "c122701e",
      "metadata": {
        "colab": {
          "base_uri": "https://localhost:8080/",
          "height": 448
        },
        "id": "c122701e",
        "outputId": "6fc1ebb0-e9dd-491e-a08d-ec98ca501a91"
      },
      "outputs": [
        {
          "output_type": "stream",
          "name": "stdout",
          "text": [
            "['truck']\n"
          ]
        },
        {
          "output_type": "display_data",
          "data": {
            "text/plain": [
              "<Figure size 640x480 with 1 Axes>"
            ],
            "image/png": "[encoded data removed]"
          },
          "metadata": {}
        }
      ],
      "source": [
        "index = 12\n",
        "plt.imshow(x_test[index])\n",
        "prediction = img_perdict(x_test[index], vit_classifier)\n",
        "print(prediction)"
      ]
    },
    {
      "cell_type": "code",
      "execution_count": 16,
      "id": "e6bb5abc",
      "metadata": {
        "colab": {
          "base_uri": "https://localhost:8080/",
          "height": 448
        },
        "id": "e6bb5abc",
        "outputId": "31e53917-fae5-4304-8589-2cc156adb0ec"
      },
      "outputs": [
        {
          "output_type": "stream",
          "name": "stdout",
          "text": [
            "['airplane']\n"
          ]
        },
        {
          "output_type": "display_data",
          "data": {
            "text/plain": [
              "<Figure size 640x480 with 1 Axes>"
            ],
            "image/png": "[encoded data removed]"
          },
          "metadata": {}
        }
      ],
      "source": [
        "index = 14\n",
        "plt.imshow(x_test[index])\n",
        "prediction = img_perdict(x_test[index], vit_classifier)\n",
        "print(prediction)"
      ]
    },
    {
      "cell_type": "code",
      "execution_count": null,
      "id": "094eb9b1",
      "metadata": {
        "id": "094eb9b1"
      },
      "outputs": [],
      "source": []
    }
  ],
  "metadata": {
    "kernelspec": {
      "display_name": "Python 3 (ipykernel)",
      "language": "python",
      "name": "python3"
    },
    "language_info": {
      "codemirror_mode": {
        "name": "ipython",
        "version": 3
      },
      "file_extension": ".py",
      "mimetype": "text/x-python",
      "name": "python",
      "nbconvert_exporter": "python",
      "pygments_lexer": "ipython3",
      "version": "3.11.4"
    },
    "colab": {
      "provenance": []
    }
  },
  "nbformat": 4,
  "nbformat_minor": 5
}